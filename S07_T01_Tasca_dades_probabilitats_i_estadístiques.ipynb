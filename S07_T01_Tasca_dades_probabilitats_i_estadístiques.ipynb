{
  "nbformat": 4,
  "nbformat_minor": 0,
  "metadata": {
    "colab": {
      "name": "S07-T01-Tasca_dades_probabilitats_i_estadístiques.ipynb",
      "provenance": [],
      "collapsed_sections": [],
      "toc_visible": true,
      "authorship_tag": "ABX9TyP7PSkO6VYvXkSsybrMyJpA",
      "include_colab_link": true
    },
    "kernelspec": {
      "name": "python3",
      "display_name": "Python 3"
    },
    "language_info": {
      "name": "python"
    }
  },
  "cells": [
    {
      "cell_type": "markdown",
      "metadata": {
        "id": "view-in-github",
        "colab_type": "text"
      },
      "source": [
        "<a href=\"https://colab.research.google.com/github/leobioinf0/Statistics/blob/main/S07_T01_Tasca_dades_probabilitats_i_estad%C3%ADstiques.ipynb\" target=\"_parent\"><img src=\"https://colab.research.google.com/assets/colab-badge.svg\" alt=\"Open In Colab\"/></a>"
      ]
    },
    {
      "cell_type": "markdown",
      "metadata": {
        "id": "2PbhOidlsA49"
      },
      "source": [
        "# Nivell 1\n",
        "\n",
        "\n",
        "\n"
      ]
    },
    {
      "cell_type": "markdown",
      "metadata": {
        "id": "uzdFHNUhsKX1"
      },
      "source": [
        "## Exercici 1\n",
        "Agafa un conjunt de dades de tema esportiu que t'agradi i selecciona un atribut del conjunt de dades. Calcula la moda, la mediana, la desviació estàndard i la mitjana aritmètica. \n",
        " "
      ]
    },
    {
      "cell_type": "code",
      "metadata": {
        "id": "C1Ku4kiwFjct"
      },
      "source": [
        "import matplotlib.pyplot as plt\n",
        "import seaborn as sns\n",
        "sns.set(rc={'figure.figsize':(15,8)})\n",
        "import numpy as np\n",
        "import random\n",
        "from imblearn.over_sampling import SMOTE"
      ],
      "execution_count": null,
      "outputs": []
    },
    {
      "cell_type": "code",
      "metadata": {
        "colab": {
          "base_uri": "https://localhost:8080/",
          "height": 204
        },
        "id": "44YbUm5k4lSd",
        "outputId": "7b82823f-dd70-47d2-e401-7f8ac8e58d7f"
      },
      "source": [
        "import pandas as pd\n",
        "\n",
        "df = pd.read_csv('/content/athlete_events.csv', encoding='utf8')\n",
        "df = df[['Sex', 'Height', 'Weight']]\n",
        "df.dropna(inplace=True)\n",
        "df.reset_index(drop=True, inplace=True)\n",
        "df.head()"
      ],
      "execution_count": 93,
      "outputs": [
        {
          "output_type": "execute_result",
          "data": {
            "text/html": [
              "<div>\n",
              "<style scoped>\n",
              "    .dataframe tbody tr th:only-of-type {\n",
              "        vertical-align: middle;\n",
              "    }\n",
              "\n",
              "    .dataframe tbody tr th {\n",
              "        vertical-align: top;\n",
              "    }\n",
              "\n",
              "    .dataframe thead th {\n",
              "        text-align: right;\n",
              "    }\n",
              "</style>\n",
              "<table border=\"1\" class=\"dataframe\">\n",
              "  <thead>\n",
              "    <tr style=\"text-align: right;\">\n",
              "      <th></th>\n",
              "      <th>Sex</th>\n",
              "      <th>Height</th>\n",
              "      <th>Weight</th>\n",
              "    </tr>\n",
              "  </thead>\n",
              "  <tbody>\n",
              "    <tr>\n",
              "      <th>0</th>\n",
              "      <td>M</td>\n",
              "      <td>180.0</td>\n",
              "      <td>80.0</td>\n",
              "    </tr>\n",
              "    <tr>\n",
              "      <th>1</th>\n",
              "      <td>M</td>\n",
              "      <td>170.0</td>\n",
              "      <td>60.0</td>\n",
              "    </tr>\n",
              "    <tr>\n",
              "      <th>2</th>\n",
              "      <td>F</td>\n",
              "      <td>185.0</td>\n",
              "      <td>82.0</td>\n",
              "    </tr>\n",
              "    <tr>\n",
              "      <th>3</th>\n",
              "      <td>F</td>\n",
              "      <td>185.0</td>\n",
              "      <td>82.0</td>\n",
              "    </tr>\n",
              "    <tr>\n",
              "      <th>4</th>\n",
              "      <td>F</td>\n",
              "      <td>185.0</td>\n",
              "      <td>82.0</td>\n",
              "    </tr>\n",
              "  </tbody>\n",
              "</table>\n",
              "</div>"
            ],
            "text/plain": [
              "  Sex  Height  Weight\n",
              "0   M   180.0    80.0\n",
              "1   M   170.0    60.0\n",
              "2   F   185.0    82.0\n",
              "3   F   185.0    82.0\n",
              "4   F   185.0    82.0"
            ]
          },
          "metadata": {},
          "execution_count": 93
        }
      ]
    },
    {
      "cell_type": "markdown",
      "metadata": {
        "id": "tEZmijSExt8W"
      },
      "source": [
        "### Moda"
      ]
    },
    {
      "cell_type": "code",
      "metadata": {
        "colab": {
          "base_uri": "https://localhost:8080/"
        },
        "id": "KSmeDIyH8gmo",
        "outputId": "054a4363-532e-44cb-84b4-b25d274e2caf"
      },
      "source": [
        "def get_mode(x: list):\n",
        "    \"\"\"\n",
        "    Get the mode of a given list\n",
        "    \"\"\"\n",
        "    d = dict.fromkeys(set(x), 0)\n",
        "    for i in d.keys():\n",
        "        for j in x:\n",
        "            if i == j:\n",
        "                d[i] +=1\n",
        "\n",
        "    return max(d, key=d.get)\n",
        "\n",
        "print(\"Mode\\n\")\n",
        "print(\"Sex: \",get_mode(df.Sex))\n",
        "print(\"Height: \",get_mode(df.Height))\n",
        "print(\"Weight: \",get_mode(df.Weight))"
      ],
      "execution_count": null,
      "outputs": [
        {
          "output_type": "stream",
          "name": "stdout",
          "text": [
            "Mode\n",
            "\n",
            "Sex:  M\n",
            "Height:  180.0\n",
            "Weight:  70.0\n"
          ]
        }
      ]
    },
    {
      "cell_type": "markdown",
      "metadata": {
        "id": "Jg-EHzuuxxwB"
      },
      "source": [
        "### Mediana"
      ]
    },
    {
      "cell_type": "code",
      "metadata": {
        "colab": {
          "base_uri": "https://localhost:8080/"
        },
        "id": "WipFLZaPx0On",
        "outputId": "ff2df44d-65f6-4c69-c356-234f485665f3"
      },
      "source": [
        "def get_median(x: list):\n",
        "    \"\"\"\n",
        "    Get the median of a given list\n",
        "    \"\"\"\n",
        "    n = len(x)\n",
        "    index = n // 2\n",
        "    # Sample with an odd number of observations\n",
        "    if n % 2:\n",
        "        return sorted(x)[index]\n",
        "    # Sample with an even number of observations\n",
        "    return sum(sorted(x)[index - 1:index + 1]) / 2\n",
        "\n",
        "\n",
        "print(\"Median\\n\")\n",
        "print(\"Height: \",get_median(df.Height))\n",
        "print(\"Weight: \",get_median(df.Weight))"
      ],
      "execution_count": null,
      "outputs": [
        {
          "output_type": "stream",
          "name": "stdout",
          "text": [
            "Median\n",
            "Height:  175.0\n",
            "Weight:  70.0\n"
          ]
        }
      ]
    },
    {
      "cell_type": "markdown",
      "metadata": {
        "id": "4SeIakYOx0XC"
      },
      "source": [
        "### Standard deviation"
      ]
    },
    {
      "cell_type": "code",
      "metadata": {
        "colab": {
          "base_uri": "https://localhost:8080/"
        },
        "id": "7bdGOBeFHkUc",
        "outputId": "256bbb82-7601-49fb-d70a-d8f68671aeb1"
      },
      "source": [
        "def get_variance(x: list):\n",
        "\n",
        "    n = len(x)\n",
        "    mean = sum(x) / n\n",
        "    return sum((x - mean) ** 2 for x in x) / (n )\n",
        "\n",
        "def get_stdev(x):\n",
        "    var = get_variance(x)\n",
        "    std_dev = var**0.5\n",
        "    return std_dev\n",
        "\n",
        "print(\"Standard deviation\\n\")\n",
        "print(\"Height: \",get_stdev(df.Height))\n",
        "print(\"Weight: \",get_stdev(df.Weight))\n"
      ],
      "execution_count": null,
      "outputs": [
        {
          "output_type": "stream",
          "name": "stdout",
          "text": [
            "Standard deviation\n",
            "\n",
            "Height:  10.438464063516989\n",
            "Weight:  14.245076949155148\n"
          ]
        }
      ]
    },
    {
      "cell_type": "markdown",
      "metadata": {
        "id": "SQcfzXEbG7qm"
      },
      "source": [
        "### Arithmetic mean"
      ]
    },
    {
      "cell_type": "code",
      "metadata": {
        "colab": {
          "base_uri": "https://localhost:8080/"
        },
        "id": "K6x1_XyNG_iL",
        "outputId": "0e49e9ce-13fd-4481-b6f6-74e5a0fe779e"
      },
      "source": [
        "def get_mean(x: list):\n",
        "    return sum(x) / len(x)\n",
        "\n",
        "print(\"Mean\\n\")\n",
        "print(\"Height: \",get_mean(df.Height))\n",
        "print(\"Weight: \",get_mean(df.Weight))"
      ],
      "execution_count": null,
      "outputs": [
        {
          "output_type": "stream",
          "name": "stdout",
          "text": [
            "Mean\n",
            "\n",
            "Height:  175.49872138150968\n",
            "Weight:  70.83664269883771\n"
          ]
        }
      ]
    },
    {
      "cell_type": "markdown",
      "metadata": {
        "id": "eo8kamsasD27"
      },
      "source": [
        "## Exercici 2\n",
        "Continuant amb les dades de tema esportiu, selecciona dos atributs i calcula'n la seva correlació."
      ]
    },
    {
      "cell_type": "markdown",
      "metadata": {
        "id": "snDZ5vzhZ-Cx"
      },
      "source": [
        "### Correlation coefficient"
      ]
    },
    {
      "cell_type": "code",
      "metadata": {
        "colab": {
          "base_uri": "https://localhost:8080/"
        },
        "id": "8XD3H65YXYCf",
        "outputId": "3fc32284-0aa3-46f9-d660-a29c86cc9a20"
      },
      "source": [
        "def corr_coef(x, y):\n",
        "    \"\"\"\n",
        "    Function that calculates the correlation coefficient of two lists\n",
        "    \"\"\"\n",
        "    import numpy as np\n",
        "    #convert to numpy array\n",
        "    x = np.array(x)\n",
        "    y = np.array(y)\n",
        "\n",
        "    #Tamaño\n",
        "    N = len(x)\n",
        "\n",
        "    #Media aritmética\n",
        "    xm = sum(x)/N\n",
        "    ym = sum(y)/N\n",
        "\n",
        "    #desviación estándar \n",
        "    sx = ((sum((x - xm)**2))/N)**(1/2)\n",
        "    sy = ((sum((y - ym)**2))/N)**(1/2)\n",
        "\n",
        "    #Covarianza\n",
        "    sxy = (sum(x * y) / N) - (xm * ym)\n",
        "\n",
        "    #Coeficiente de correlación\n",
        "    rxy = sxy / (sx * sy)\n",
        "\n",
        "    return rxy\n",
        "\n",
        "\n",
        "print(\"Pearson correlation coefficient\\n\")\n",
        "print(\"Rho(X,Y): \",corr_coef(df.Height, df.Weight))"
      ],
      "execution_count": 96,
      "outputs": [
        {
          "output_type": "execute_result",
          "data": {
            "text/plain": [
              "0.7916891055794352"
            ]
          },
          "metadata": {},
          "execution_count": 96
        }
      ]
    },
    {
      "cell_type": "markdown",
      "metadata": {
        "id": "PJrga2u4sD5d"
      },
      "source": [
        "# Nivell 2"
      ]
    },
    {
      "cell_type": "markdown",
      "metadata": {
        "id": "AJWq96ydsEiZ"
      },
      "source": [
        "## Exercici 3\n",
        "Continuant amb les dades de tema esportiu, calcula la correlació de tots els atributs entre sí i representa'ls en una matriu amb diferents colors d'intensitat.\n"
      ]
    },
    {
      "cell_type": "markdown",
      "metadata": {
        "id": "fwP0Sm-5aI4v"
      },
      "source": [
        "### Correlation heatmap"
      ]
    },
    {
      "cell_type": "code",
      "metadata": {
        "id": "4J0PzpkosrjF",
        "colab": {
          "base_uri": "https://localhost:8080/",
          "height": 286
        },
        "outputId": "8e9d1711-7200-48e3-86ab-64f749852b49"
      },
      "source": [
        "import seaborn as sns\n",
        "corr = df.corr()\n",
        "sns.heatmap(corr, cmap=\"Blues\", annot=True)"
      ],
      "execution_count": 97,
      "outputs": [
        {
          "output_type": "execute_result",
          "data": {
            "text/plain": [
              "<matplotlib.axes._subplots.AxesSubplot at 0x7f6b9aa2fa50>"
            ]
          },
          "metadata": {},
          "execution_count": 97
        },
        {
          "output_type": "display_data",
          "data": {
            "image/png": "[encoded data removed]",
            "text/plain": [
              "<Figure size 432x288 with 2 Axes>"
            ]
          },
          "metadata": {
            "needs_background": "light"
          }
        }
      ]
    },
    {
      "cell_type": "markdown",
      "metadata": {
        "id": "q6evM5i7sWWo"
      },
      "source": [
        "# Nivell 3"
      ]
    },
    {
      "cell_type": "markdown",
      "metadata": {
        "id": "0HVeTGFysW8H"
      },
      "source": [
        "## Exercici 4\n",
        "Continuant amb les dades de tema esportiu, selecciona un atribut i calcula la mitjana geomètrica i la mitjana harmònica."
      ]
    },
    {
      "cell_type": "markdown",
      "metadata": {
        "id": "ngy1REombwHp"
      },
      "source": [
        "### Geometric mean"
      ]
    },
    {
      "cell_type": "code",
      "metadata": {
        "colab": {
          "base_uri": "https://localhost:8080/"
        },
        "id": "bwe_qAxxZPe7",
        "outputId": "94538931-4f35-4e49-f55b-fd6d9e582005"
      },
      "source": [
        "import numpy as np\n",
        "\n",
        "def geometric_mean(x: list):\n",
        "    a = np.log(x)\n",
        "    return np.exp(a.mean())\n",
        "\n",
        "print(\"Geometric Mean\\n\")\n",
        "print(\"Height: \",geometric_mean(df.Height))\n",
        "print(\"Weight: \",geometric_mean(df.Weight))"
      ],
      "execution_count": 110,
      "outputs": [
        {
          "output_type": "stream",
          "name": "stdout",
          "text": [
            "Geometric Mean\n",
            "\n",
            "Height:  175.18715180149678\n",
            "Weight:  69.45882922525192\n"
          ]
        }
      ]
    },
    {
      "cell_type": "markdown",
      "metadata": {
        "id": "sM2GXmSebFEw"
      },
      "source": [
        "### Harmonic mean"
      ]
    },
    {
      "cell_type": "code",
      "metadata": {
        "colab": {
          "base_uri": "https://localhost:8080/"
        },
        "id": "C2fdBO1zZmDF",
        "outputId": "05663c92-824f-440a-aaa6-38ba71d2ccf4"
      },
      "source": [
        "def harmonic_mean(x: list):\n",
        "\n",
        "    return len(x) / np.sum(1.0/x)\n",
        "\n",
        "print(\"Harmonic Mean\\n\")\n",
        "print(\"Height: \",harmonic_mean(df.Height))\n",
        "print(\"Weight: \",harmonic_mean(df.Weight))"
      ],
      "execution_count": 111,
      "outputs": [
        {
          "output_type": "stream",
          "name": "stdout",
          "text": [
            "Harmonic Mean\n",
            "\n",
            "Height:  174.87404398100165\n",
            "Weight:  68.10542740105656\n"
          ]
        }
      ]
    }
  ]
}